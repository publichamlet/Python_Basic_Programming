{
 "cells": [
  {
   "cell_type": "markdown",
   "metadata": {},
   "source": [
    "## Python Basic Programming Exercises"
   ]
  },
  {
   "cell_type": "markdown",
   "metadata": {},
   "source": [
    "### Q1: What is the output of following expression    \n",
    "```python\n",
    "5 + 4 * 9 % (3 + 1) / 6 - 1\n"
   ]
  },
  {
   "cell_type": "code",
   "execution_count": 1,
   "metadata": {},
   "outputs": [
    {
     "name": "stdout",
     "output_type": "stream",
     "text": [
      "4.0\n"
     ]
    }
   ],
   "source": [
    "s1 = (3+1)\n",
    "s2 = 4 * 9\n",
    "s3 = s2 % s1\n",
    "s4 = s3 / 6\n",
    "s5 = 5 + s4 - 1\n",
    "\n",
    "print(s5)"
   ]
  },
  {
   "cell_type": "markdown",
   "metadata": {},
   "source": [
    "### Q2: Write a program to check if a Number is Odd or Even. Take number as a input from user at runtime."
   ]
  },
  {
   "cell_type": "code",
   "execution_count": 2,
   "metadata": {},
   "outputs": [
    {
     "name": "stdin",
     "output_type": "stream",
     "text": [
      "Enter a Number:  13\n"
     ]
    },
    {
     "name": "stdout",
     "output_type": "stream",
     "text": [
      "The Number 13 is an Odd number\n"
     ]
    }
   ],
   "source": [
    "num = int(input('Enter a Number: '))\n",
    "if num % 2 == 0:\n",
    "    print(f'The Number {num} is an Even number')\n",
    "else:\n",
    "    print(f'The Number {num} is an Odd number')"
   ]
  },
  {
   "cell_type": "markdown",
   "metadata": {},
   "source": [
    "### Q3: Write a program to display the multiplication table by taking a number as input. \n",
    "    [Hint : Use print statement inside of a loop]"
   ]
  },
  {
   "cell_type": "code",
   "execution_count": 3,
   "metadata": {},
   "outputs": [
    {
     "name": "stdin",
     "output_type": "stream",
     "text": [
      "Enter a Number for generating a multiplication table:  16\n"
     ]
    },
    {
     "name": "stdout",
     "output_type": "stream",
     "text": [
      "Multiplcation Table for 16:\n",
      "============================\n",
      "16 x 01 = 16\n",
      "16 x 02 = 32\n",
      "16 x 03 = 48\n",
      "16 x 04 = 64\n",
      "16 x 05 = 80\n",
      "16 x 06 = 96\n",
      "16 x 07 = 112\n",
      "16 x 08 = 128\n",
      "16 x 09 = 144\n",
      "16 x 10 = 160\n",
      "16 x 11 = 176\n",
      "16 x 12 = 192\n",
      "16 x 13 = 208\n",
      "16 x 14 = 224\n",
      "16 x 15 = 240\n",
      "16 x 16 = 256\n",
      "16 x 17 = 272\n",
      "16 x 18 = 288\n",
      "16 x 19 = 304\n",
      "16 x 20 = 320\n"
     ]
    }
   ],
   "source": [
    "num = int(input('Enter a Number for generating a multiplication table: '))\n",
    "print(f'Multiplcation Table for {num}:\\n{\"=\" * 28}')\n",
    "for i in range(1, 21):\n",
    "    print(f'{str(num)} x {str(i).zfill(2)} = {num * i}')"
   ]
  },
  {
   "cell_type": "markdown",
   "metadata": {},
   "source": [
    "### Q4: Write a program which will find all numbers between 2000 and 3200 which are divisible by 7 but are not a multiple of 5.    \n",
    " \n",
    "    Note: The numbers obtained should be printed in a comma-separated sequence on a single line."
   ]
  },
  {
   "cell_type": "code",
   "execution_count": 4,
   "metadata": {},
   "outputs": [
    {
     "name": "stdout",
     "output_type": "stream",
     "text": [
      "2002, 2009, 2016, 2023, 2037, 2044, 2051, 2058, 2072, 2079, 2086, 2093, 2107, 2114, 2121, 2128, 2142, 2149, 2156, 2163, 2177, 2184, 2191, 2198, 2212, 2219, 2226, 2233, 2247, 2254, 2261, 2268, 2282, 2289, 2296, 2303, 2317, 2324, 2331, 2338, 2352, 2359, 2366, 2373, 2387, 2394, 2401, 2408, 2422, 2429, 2436, 2443, 2457, 2464, 2471, 2478, 2492, 2499, 2506, 2513, 2527, 2534, 2541, 2548, 2562, 2569, 2576, 2583, 2597, 2604, 2611, 2618, 2632, 2639, 2646, 2653, 2667, 2674, 2681, 2688, 2702, 2709, 2716, 2723, 2737, 2744, 2751, 2758, 2772, 2779, 2786, 2793, 2807, 2814, 2821, 2828, 2842, 2849, 2856, 2863, 2877, 2884, 2891, 2898, 2912, 2919, 2926, 2933, 2947, 2954, 2961, 2968, 2982, 2989, 2996, 3003, 3017, 3024, 3031, 3038, 3052, 3059, 3066, 3073, 3087, 3094, 3101, 3108, 3122, 3129, 3136, 3143, 3157, 3164, 3171, 3178, 3192, 3199\n"
     ]
    }
   ],
   "source": [
    "num_list = list()\n",
    "for i in range(2000,3201):\n",
    "    if (i % 7 ==0) & (i % 5 != 0):\n",
    "        num_list.append(str(i))\n",
    "print(', '.join(num_list))"
   ]
  },
  {
   "cell_type": "markdown",
   "metadata": {},
   "source": [
    "### Q5: Count the elements of each datatype inside the list and display in output\n",
    "    [2, 3, 'Py', '10', 1, 'SQL', 5.5, True, 3, 'John', None, 7]    "
   ]
  },
  {
   "cell_type": "code",
   "execution_count": 5,
   "metadata": {},
   "outputs": [
    {
     "name": "stdout",
     "output_type": "stream",
     "text": [
      "{'int': 5, 'str': 4, 'float': 1, 'bool': 1, 'NoneType': 1, 'complex': 1}\n"
     ]
    }
   ],
   "source": [
    "li = [2, 3, 'Py', '10', 1, 'SQL', 5.5, True, 3, 'John', None, 7, 3+9j]\n",
    "count = dict()\n",
    "for i in li:\n",
    "    key = str(type(i)).split(\"'\")[1]\n",
    "    if key in count.keys():\n",
    "        count[key] += 1\n",
    "    else:\n",
    "        count[key] = 1\n",
    "print(count)"
   ]
  },
  {
   "cell_type": "markdown",
   "metadata": {},
   "source": [
    "### Q6: Add all values from the list with numeric datatypes \n",
    "    [2, 3, 'Py', '10', 1, 'SQL', 5.5, True, 3, 'John', None, 7] "
   ]
  },
  {
   "cell_type": "code",
   "execution_count": 6,
   "metadata": {},
   "outputs": [
    {
     "name": "stdout",
     "output_type": "stream",
     "text": [
      "21.5\n"
     ]
    }
   ],
   "source": [
    "li = [2, 3, 'Py', '10', 1, 'SQL', 5.5, True, 3, 'John', None, 7]\n",
    "sum_num = 0\n",
    "for i in li:\n",
    "    key = str(type(i)).split(\"'\")[1]\n",
    "    if key in ['int' , 'float', 'complex']:\n",
    "        sum_num += i\n",
    "print(sum_num)"
   ]
  },
  {
   "cell_type": "markdown",
   "metadata": {},
   "source": [
    "### Q7: Concat all str datatypes with hyphen as a delimiter\n",
    "    [2, 3, 'Py', '10', 1, 'SQL', 5.5, True, 3, 'John', None, 7] "
   ]
  },
  {
   "cell_type": "code",
   "execution_count": 7,
   "metadata": {},
   "outputs": [
    {
     "name": "stdout",
     "output_type": "stream",
     "text": [
      "Py-10-SQL-John\n"
     ]
    }
   ],
   "source": [
    "li = [2, 3, 'Py', '10', 1, 'SQL', 5.5, True, 3, 'John', None, 7]\n",
    "str_li = []\n",
    "for i in li:\n",
    "    key = str(type(i)).split(\"'\")[1]\n",
    "    if key == 'str':\n",
    "        str_li.append(i)\n",
    "print('-'.join(str_li))"
   ]
  },
  {
   "cell_type": "markdown",
   "metadata": {},
   "source": [
    "### Q8: Write a UDF that takes list as input and returns sum of all numbers (exclude bool) and count of all str    \n",
    "    [2, 3, 'Py', '10', 1, 'SQL', 5.5, True, 3, 'John', None, 7] \n",
    "    \n",
    "```python\n",
    "    Hint:\n",
    "    def my_func:\n",
    "        # your code\n",
    "\n",
    "    my_func(l1)\n",
    "    # output --> {'Sum': xxx, 'Count_of_Strs': xxx}"
   ]
  },
  {
   "cell_type": "code",
   "execution_count": 8,
   "metadata": {},
   "outputs": [
    {
     "data": {
      "text/plain": [
       "{'Sum': 21.5, 'Count_of_Strs': 4}"
      ]
     },
     "execution_count": 8,
     "metadata": {},
     "output_type": "execute_result"
    }
   ],
   "source": [
    "def my_func(li):\n",
    "    sum_num = 0\n",
    "    str_cnt = 0\n",
    "    for i in li:\n",
    "        key = str(type(i)).split(\"'\")[1]\n",
    "        if key in ['int' , 'float', 'complex']:\n",
    "            sum_num += i\n",
    "        elif key == 'str':\n",
    "            str_cnt += 1\n",
    "    return {'Sum': sum_num, 'Count_of_Strs':str_cnt}\n",
    "\n",
    "list_types = [2, 3, 'Py', '10', 1, 'SQL', 5.5, True, 3, 'John', None, 7]\n",
    "my_func(list_types) "
   ]
  },
  {
   "cell_type": "markdown",
   "metadata": {},
   "source": [
    "### Q9: Get only odd numbers from the following list and store the numbers in new list\n",
    "    li = [5, 7, 22, 97, 54, 62, 77, 23, 73, 61]\n",
    "\n",
    "    i. Use loops to get the answer\n",
    "    ii. Use list comprehensions\n",
    "    iii. Use lambda function with filter"
   ]
  },
  {
   "cell_type": "code",
   "execution_count": 9,
   "metadata": {},
   "outputs": [
    {
     "name": "stdout",
     "output_type": "stream",
     "text": [
      "Using loops :- [5, 7, 97, 77, 23, 73, 61]\n",
      "Using list comprehensions :- [5, 7, 97, 77, 23, 73, 61]\n",
      "Using lambda function with filter :- [5, 7, 97, 77, 23, 73, 61]\n"
     ]
    }
   ],
   "source": [
    "li = [5, 7, 22, 97, 54, 62, 77, 23, 73, 61]\n",
    "new_li = list()\n",
    "\n",
    "# i. Use loops to get the answer\n",
    "\n",
    "for i in li:\n",
    "    if i % 2 != 0:\n",
    "        new_li.append(i)\n",
    "print(f'Using loops :- {new_li}')\n",
    "new_li.clear()\n",
    "\n",
    "# ii. Use list comprehensions\n",
    "\n",
    "new_li = [i for i in li  if i % 2 != 0]\n",
    "print(f'Using list comprehensions :- {new_li}')\n",
    "new_li.clear()\n",
    "\n",
    "# iii. Use lambda function with filter\n",
    "\n",
    "new_li = list(filter(lambda i: i % 2 != 0, li))\n",
    "print(f'Using lambda function with filter :- {new_li}')\n"
   ]
  },
  {
   "cell_type": "markdown",
   "metadata": {},
   "source": [
    "### Q10: Write a UDF to return the descriptives [sum, count, min, mean, max] for a list of n number of input numbers."
   ]
  },
  {
   "cell_type": "code",
   "execution_count": 10,
   "metadata": {},
   "outputs": [
    {
     "name": "stdin",
     "output_type": "stream",
     "text": [
      "Enter the numbers seperated with comma:  1,2,3,4,5,6,7,8,9\n"
     ]
    },
    {
     "name": "stdout",
     "output_type": "stream",
     "text": [
      "Sum \t Count \t Min \t Max \t Mean\n",
      "--------------------------------------\n",
      "45 \t 9 \t 1 \t 9 \t 5.0\n"
     ]
    }
   ],
   "source": [
    "def descriptives(num_list):\n",
    "    list_sum = sum(num_list)\n",
    "    list_count = len(num_list)\n",
    "    list_min = min(num_list)\n",
    "    list_max = max(num_list)\n",
    "    list_mean = round(list_sum / list_count, 2)\n",
    "    print(f'Sum \\t Count \\t Min \\t Max \\t Mean\\n{\"-\" * 38}')\n",
    "    print(f'{list_sum} \\t {list_count} \\t {list_min} \\t {list_max} \\t {list_mean}')\n",
    "    pass\n",
    "\n",
    "num_list = input('Enter the numbers seperated with comma: ')\n",
    "num_list = [int(x) for x in num_list.split(',')]\n",
    "\n",
    "descriptives(num_list=num_list)\n"
   ]
  },
  {
   "cell_type": "markdown",
   "metadata": {},
   "source": [
    "### Q11: Write an udf to calculate the area of different shapes\n",
    "\n",
    "    Take shape and dimensions as arguments to udf as follows : \n",
    "    \n",
    "    1. square which has side\n",
    "    2. rectangle which has length and width\n",
    "    3. circle which has radius\n",
    "    \n",
    "    The shape should be a positional argument and it's dimensions are taken as kwargs\n",
    "    \n",
    "    Perform proper validation for the user inputs and then calculate area.\n",
    "    \n",
    "    E.g. if shape is square, ensure kwargs has \"side\" and if so, then you may return the area, else display appropriate error message like \"Please enter 'side' for a square\""
   ]
  },
  {
   "cell_type": "code",
   "execution_count": 11,
   "metadata": {},
   "outputs": [
    {
     "name": "stdout",
     "output_type": "stream",
     "text": [
      " \n",
      "Please enter the name of shape and dimensions as follows:\n",
      "rectangle,length,width or\n",
      "square,side or\n",
      "circle,radius\n"
     ]
    },
    {
     "name": "stdin",
     "output_type": "stream",
     "text": [
      ">  square,12,15\n"
     ]
    },
    {
     "name": "stdout",
     "output_type": "stream",
     "text": [
      " \n",
      "Entered inputs are not acceptable.\n",
      "Please enter the rigth shape / correct dimensions \n"
     ]
    },
    {
     "name": "stdin",
     "output_type": "stream",
     "text": [
      ">  circle,3,5\n"
     ]
    },
    {
     "name": "stdout",
     "output_type": "stream",
     "text": [
      " \n",
      "Entered inputs are not acceptable.\n",
      "Please enter the rigth shape / correct dimensions \n"
     ]
    },
    {
     "name": "stdin",
     "output_type": "stream",
     "text": [
      ">  rectangle,10,15\n"
     ]
    },
    {
     "name": "stdout",
     "output_type": "stream",
     "text": [
      "\n",
      "Area of rectangle is 150.00sq.m\n"
     ]
    }
   ],
   "source": [
    "from math import pi\n",
    "\n",
    "def square_area(side):\n",
    "    return pow(side, 2)\n",
    "\n",
    "\n",
    "def rect_area(length, width):\n",
    "    return length * width\n",
    "\n",
    "\n",
    "def circle_arae(radius):\n",
    "    return pi * pow(radius, 2)\n",
    "\n",
    "\n",
    "def area(shape, **kwargs):\n",
    "    if shape == 'square':\n",
    "        area_calc = square_area(kwargs['side'])\n",
    "        return area_calc\n",
    "    elif shape == 'rectangle':\n",
    "        area_calc = rect_area(kwargs['length'], kwargs['width'])\n",
    "        return area_calc\n",
    "    else:\n",
    "        area_calc = circle_arae(kwargs['radius'])\n",
    "        return area_calc\n",
    "\n",
    "\n",
    "length, width = 0, 0\n",
    "side = 0\n",
    "radius = 0\n",
    "count = 0\n",
    "\n",
    "user_display = \"\"\" \n",
    "Please enter the name of shape and dimensions as follows:\n",
    "rectangle,length,width or\n",
    "square,side or\n",
    "circle,radius\"\"\"\n",
    "print(user_display)\n",
    "\n",
    "user_error_msg = \"\"\" \n",
    "Entered inputs are not acceptable.\n",
    "Please enter the rigth shape / correct dimensions \"\"\"\n",
    "\n",
    "while count < 3:\n",
    "    user_input = input('> ')\n",
    "    user_input_list = user_input.split(',')\n",
    "    shape = user_input_list[0].lower()\n",
    "    if shape == 'square' and len(user_input_list) == 2:\n",
    "        side = float(user_input_list[1])\n",
    "        break\n",
    "    elif shape == 'circle' and len(user_input_list) == 2:\n",
    "        radius = float(user_input_list[1])\n",
    "        break\n",
    "    elif shape == 'rectangle' and len(user_input_list) == 3:\n",
    "        length = float(user_input_list[1])\n",
    "        width = float(user_input_list[2])\n",
    "        break\n",
    "    count += 1\n",
    "    if count == 3:\n",
    "        print('Please try again later......')\n",
    "    else:\n",
    "        print(user_error_msg)\n",
    "\n",
    "calc_area = area(shape=shape, \n",
    "                 side=side, \n",
    "                 length=length, width=width, \n",
    "                 radius=radius)\n",
    "print(f'\\nArea of {shape} is {calc_area:.2f}sq.m') if calc_area != 0 else None\n"
   ]
  },
  {
   "cell_type": "markdown",
   "metadata": {},
   "source": [
    "### Q12: Write a UDF to reconcile the values within two lists.\n",
    "    l1 = ['January', 'February', 'March', 'May', 'June', 'September', 'December']\n",
    "    l2 = ['January', 'February', 'April', 'June', 'October', 'December']\n",
    "\n",
    "```python\n",
    "    Hint\n",
    "    def func(l1, l2):\n",
    "        your code here...\n",
    "        \n",
    "    Output:\n",
    "    {'Matched': ['January', 'February', 'June', 'December'],\n",
    "        'Only in l1': ['March', 'May', 'September'],\n",
    "            'Only in l2': ['April', 'October']}"
   ]
  },
  {
   "cell_type": "code",
   "execution_count": 12,
   "metadata": {},
   "outputs": [
    {
     "data": {
      "text/plain": [
       "{'Matched': ['January', 'February', 'June', 'December'],\n",
       " 'Only in l1': ['March', 'May', 'September'],\n",
       " 'Only in l2': ['April', 'October']}"
      ]
     },
     "execution_count": 12,
     "metadata": {},
     "output_type": "execute_result"
    }
   ],
   "source": [
    "l1 = ['January', 'February', 'March', 'May', 'June', 'September', 'December']\n",
    "l2 = ['January', 'February', 'April', 'June', 'October', 'December']\n",
    "\n",
    "def my_func1(l1, l2):\n",
    "    l3 = l2.copy()\n",
    "    matched = list()\n",
    "    l1_only = list()\n",
    "    for i in l1:\n",
    "        if i in l3:\n",
    "            matched.append(i)\n",
    "            l3.remove(i)\n",
    "        else:\n",
    "            l1_only.append(i)\n",
    "    return {\n",
    "        'Matched': matched,\n",
    "        'Only in l1': l1_only,\n",
    "        'Only in l2': l3\n",
    "    }\n",
    "\n",
    "my_func1(l1, l2)\n"
   ]
  },
  {
   "cell_type": "markdown",
   "metadata": {
    "collapsed": true,
    "jupyter": {
     "outputs_hidden": true
    }
   },
   "source": [
    "### Q13: write a UDF to check if a number is prime or not."
   ]
  },
  {
   "cell_type": "code",
   "execution_count": 13,
   "metadata": {},
   "outputs": [
    {
     "name": "stdin",
     "output_type": "stream",
     "text": [
      "Enter a number for prime status:  23\n"
     ]
    },
    {
     "name": "stdout",
     "output_type": "stream",
     "text": [
      "23 is a Prime Number\n"
     ]
    }
   ],
   "source": [
    "from math import sqrt, floor\n",
    "\n",
    "# Square root methode\n",
    "def primeNum(num):\n",
    "    if num <= 1:\n",
    "        return False\n",
    "    count = floor(sqrt(num))\n",
    "    for i in range(2, count + 1):\n",
    "        if num % i == 0:\n",
    "            return False\n",
    "    return True\n",
    "\n",
    "\n",
    "input_num = int(input('Enter a number for prime status: '))\n",
    "\n",
    "if primeNum(input_num):\n",
    "    print(f'{input_num} is a Prime Number')\n",
    "else:\n",
    "    print(f'{input_num} is not a Prime Number')\n"
   ]
  },
  {
   "cell_type": "code",
   "execution_count": 14,
   "metadata": {},
   "outputs": [
    {
     "name": "stdin",
     "output_type": "stream",
     "text": [
      "Enter a number for prime status:  20\n"
     ]
    },
    {
     "name": "stdout",
     "output_type": "stream",
     "text": [
      "20 is not a Prime Number\n"
     ]
    }
   ],
   "source": [
    "# using reccuring function\n",
    "def primeNum(num, i):\n",
    "    if num <= 1:\n",
    "        return False\n",
    "    if num == i:\n",
    "        return True\n",
    "    if num % i == 0:\n",
    "        return False\n",
    "    i += 1\n",
    "    return primeNum(num, i)\n",
    "\n",
    "input_num = int(input('Enter a number for prime status: '))\n",
    "\n",
    "if primeNum(input_num, 2):\n",
    "    print(f'{input_num} is a Prime Number')\n",
    "else:\n",
    "    print(f'{input_num} is not a Prime Number')\n"
   ]
  },
  {
   "cell_type": "markdown",
   "metadata": {
    "collapsed": true,
    "jupyter": {
     "outputs_hidden": true
    }
   },
   "source": [
    "### Q14. Write a program which can compute the factorial of a given numbers. \n",
    "```python\n",
    "    input() function can be used for getting user(console) input\n",
    "    Suppose the input is supplied to the program:  8  \n",
    "    Then, the output should be:  40320 \n",
    "    \n",
    "    Hints: \n",
    "    In case of input data being supplied to the question, it should be assumed to be a console input. \n"
   ]
  },
  {
   "cell_type": "code",
   "execution_count": 15,
   "metadata": {},
   "outputs": [
    {
     "name": "stdin",
     "output_type": "stream",
     "text": [
      "Enter a number:  8\n"
     ]
    },
    {
     "name": "stdout",
     "output_type": "stream",
     "text": [
      "Factorial using UDF - 40320\n",
      "Factorial using math package - 40320\n"
     ]
    }
   ],
   "source": [
    "import math\n",
    "\n",
    "fact = 1\n",
    "\n",
    "def factorial_(num):\n",
    "    global fact\n",
    "    fact = fact * num\n",
    "    if num <= 1:\n",
    "        return fact\n",
    "    return factorial_(num - 1)\n",
    "\n",
    "\n",
    "num = int(input('Enter a number: '))\n",
    "\n",
    "print(f'Factorial using UDF - {factorial_(num)}')\n",
    "print(f'Factorial using math package - {math.factorial(num)}')\n"
   ]
  },
  {
   "cell_type": "markdown",
   "metadata": {
    "collapsed": true,
    "jupyter": {
     "outputs_hidden": true
    }
   },
   "source": [
    "### Q15. With a given integral number n, write a program to generate a dictionary that contains (i, i*i) such that is an integral number between 1 and n (both included). and then the program should print the dictionary.\n",
    "\n",
    "    Suppose the following input is supplied to the program: 8\n",
    "    Then, the output should be: {1: 1, 2: 4, 3: 9, 4: 16, 5: 25, 6: 36, 7: 49, 8: 64}\n",
    "    Hints: In case of input data being supplied to the question, it should be assumed to be a console input. Consider using dict()\n",
    "\n"
   ]
  },
  {
   "cell_type": "code",
   "execution_count": 16,
   "metadata": {},
   "outputs": [
    {
     "name": "stdin",
     "output_type": "stream",
     "text": [
      "Enter an integral number:  8\n"
     ]
    },
    {
     "data": {
      "text/plain": [
       "{1: 1, 2: 4, 3: 9, 4: 16, 5: 25, 6: 36, 7: 49, 8: 64}"
      ]
     },
     "execution_count": 16,
     "metadata": {},
     "output_type": "execute_result"
    }
   ],
   "source": [
    "user_input = int(input('Enter an integral number: '))\n",
    "\n",
    "key_list = list(range(1, user_input+1))\n",
    "dict_ = {key: pow(key, 2) for key in key_list}\n",
    "dict_\n"
   ]
  },
  {
   "cell_type": "markdown",
   "metadata": {
    "collapsed": true,
    "jupyter": {
     "outputs_hidden": true
    }
   },
   "source": [
    "### Q16. Write a program which accepts a sequence of comma-separated numbers from console and generate a list and a tuple which contains every number.\n",
    "    Suppose the following input is supplied to the program: 34,67,55,33,12,98\n",
    "    Then, the output should be: ['34', '67', '55', '33', '12', '98'] ('34', '67', '55', '33', '12', '98')\n",
    "\n",
    "    Hints: In case of input data being supplied to the question, it should be assumed to be a console input. you may use tuple() method to convert list to tuple\n"
   ]
  },
  {
   "cell_type": "code",
   "execution_count": 17,
   "metadata": {},
   "outputs": [
    {
     "name": "stdin",
     "output_type": "stream",
     "text": [
      "Enter comma seperated numbers:  34,67,55,33,12,98\n"
     ]
    },
    {
     "name": "stdout",
     "output_type": "stream",
     "text": [
      "['34', '67', '55', '33', '12', '98']\n",
      "('34', '67', '55', '33', '12', '98')\n"
     ]
    }
   ],
   "source": [
    "input_list = input('Enter comma seperated numbers: ')\n",
    "\n",
    "print(input_list.split(','))\n",
    "print(tuple(input_list.split(',')))"
   ]
  },
  {
   "cell_type": "markdown",
   "metadata": {
    "collapsed": true,
    "jupyter": {
     "outputs_hidden": true
    }
   },
   "source": [
    "### Q17. Write a program that accepts a comma separated sequence of words as input and prints the words in a comma-separated sequence after sorting them alphabetically.\n",
    "\n",
    "    Suppose the following input is supplied to the program: without,hello,bag,world\n",
    "    Then, the output should be: bag,hello,without,world\n",
    "\n",
    "    Hints: In case of input data being supplied to the question, it should be assumed to be a console input.\n"
   ]
  },
  {
   "cell_type": "code",
   "execution_count": 18,
   "metadata": {},
   "outputs": [
    {
     "name": "stdin",
     "output_type": "stream",
     "text": [
      "Enter comma seperated words:  without,hello,bag,world\n"
     ]
    },
    {
     "name": "stdout",
     "output_type": "stream",
     "text": [
      "bag, hello, without, world\n"
     ]
    }
   ],
   "source": [
    "word = input('Enter comma seperated words: ')\n",
    "\n",
    "word_list = sorted(word.split(','))\n",
    "\n",
    "print(', '.join(word_list))"
   ]
  },
  {
   "cell_type": "markdown",
   "metadata": {
    "collapsed": true,
    "jupyter": {
     "outputs_hidden": true
    }
   },
   "source": [
    "### Q18. Write a program that accepts a sequence of whitespace separated words as input and prints the words after removing all duplicate words and sorting them alphanumerically.\n",
    "    Suppose the following input is supplied to the program: hello world and practice makes perfect and hello world again\n",
    "    Then, the output should be: again and hello makes perfect practice world\n",
    "    \n",
    "    Hints: In case of input data being supplied to the question, it should be assumed to be a console input.\n",
    "    We use set container to remove duplicated data automatically and then use sorted() to sort the data.\n"
   ]
  },
  {
   "cell_type": "code",
   "execution_count": 19,
   "metadata": {},
   "outputs": [
    {
     "name": "stdin",
     "output_type": "stream",
     "text": [
      "Enter whitespace seperated words:  hello world and practice makes perfect and hello world again\n"
     ]
    },
    {
     "name": "stdout",
     "output_type": "stream",
     "text": [
      "again and hello makes perfect practice world\n"
     ]
    }
   ],
   "source": [
    "user_input = input('Enter whitespace seperated words: ')\n",
    "\n",
    "user_input_list = user_input.split()\n",
    "print(' '.join(sorted(list(set(user_input_list)))))\n",
    "del user_input, user_input_list"
   ]
  },
  {
   "cell_type": "markdown",
   "metadata": {
    "collapsed": true,
    "jupyter": {
     "outputs_hidden": true
    }
   },
   "source": [
    "### Q19. Write a program that accepts a sentence and calculate the number of upper case letters and lower case letters.\n",
    "    Suppose the following input is supplied to the program: Hello world!\n",
    "    Then, the output should be: UPPER CASE 1 LOWER CASE 9\n",
    "\n",
    "    Hints: In case of input data being supplied to the question, it should be assumed to be a console input.\n"
   ]
  },
  {
   "cell_type": "code",
   "execution_count": 20,
   "metadata": {},
   "outputs": [
    {
     "name": "stdin",
     "output_type": "stream",
     "text": [
      "Enter a sentence:  Hello world!\n"
     ]
    },
    {
     "name": "stdout",
     "output_type": "stream",
     "text": [
      "UPPER CASE 1 \n",
      "LOWER CASE 9\n"
     ]
    }
   ],
   "source": [
    "upper_count = 0\n",
    "lower_count = 0\n",
    "user_input = input('Enter a sentence: ')\n",
    "\n",
    "for i in [x for x in user_input]:\n",
    "    if i.isalpha() and i.isupper():\n",
    "        upper_count += 1\n",
    "    elif i.isalpha() and i.islower():\n",
    "        lower_count += 1\n",
    "\n",
    "print(f'UPPER CASE {upper_count} \\nLOWER CASE {lower_count}')\n",
    "del user_input\n"
   ]
  },
  {
   "cell_type": "markdown",
   "metadata": {
    "collapsed": true,
    "jupyter": {
     "outputs_hidden": true
    }
   },
   "source": [
    "### Q20. Write a program that takes a string and returns reversed string. \n",
    "    i.e. if input is \"abcd123\" output should be \"321dcba\""
   ]
  },
  {
   "cell_type": "code",
   "execution_count": 21,
   "metadata": {},
   "outputs": [
    {
     "name": "stdin",
     "output_type": "stream",
     "text": [
      "Enter a string:  abcd123\n"
     ]
    },
    {
     "name": "stdout",
     "output_type": "stream",
     "text": [
      "321dcba\n"
     ]
    }
   ],
   "source": [
    "user_input = input('Enter a string: ')\n",
    "\n",
    "print(user_input[::-1])\n"
   ]
  }
 ],
 "metadata": {
  "kernelspec": {
   "display_name": "Python 3 (ipykernel)",
   "language": "python",
   "name": "python3"
  },
  "language_info": {
   "codemirror_mode": {
    "name": "ipython",
    "version": 3
   },
   "file_extension": ".py",
   "mimetype": "text/x-python",
   "name": "python",
   "nbconvert_exporter": "python",
   "pygments_lexer": "ipython3",
   "version": "3.11.4"
  },
  "varInspector": {
   "cols": {
    "lenName": 16,
    "lenType": 16,
    "lenVar": 40
   },
   "kernels_config": {
    "python": {
     "delete_cmd_postfix": "",
     "delete_cmd_prefix": "del ",
     "library": "var_list.py",
     "varRefreshCmd": "print(var_dic_list())"
    },
    "r": {
     "delete_cmd_postfix": ") ",
     "delete_cmd_prefix": "rm(",
     "library": "var_list.r",
     "varRefreshCmd": "cat(var_dic_list()) "
    }
   },
   "types_to_exclude": [
    "module",
    "function",
    "builtin_function_or_method",
    "instance",
    "_Feature"
   ],
   "window_display": false
  }
 },
 "nbformat": 4,
 "nbformat_minor": 4
}
